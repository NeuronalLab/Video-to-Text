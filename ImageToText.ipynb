{
 "cells": [
  {
   "cell_type": "code",
   "execution_count": 1,
   "metadata": {},
   "outputs": [],
   "source": [
    "import pandas as pd \n",
    "import cv2 \n",
    "import tkinter as tk \n",
    "import customtkinter as ck \n",
    "from PIL import Image, ImageTk \n",
    "import easyocr "
   ]
  },
  {
   "cell_type": "code",
   "execution_count": 2,
   "metadata": {},
   "outputs": [],
   "source": [
    "window=tk.Tk()\n",
    "window.geometry(\"480x700\")\n",
    "window.title(\"Image_to_Text_APP\")\n",
    "\n",
    "lable= ck.CTkLabel(window, height=40, width=270, text_color=\"black\")\n",
    "lable.place(x=10, y=1)\n",
    "lable.configure(text=\"text\")\n",
    "\n",
    "box= ck.CTkLabel(window, height=40, width=270, text_color=\"white\", fg_color=\"blue\",font=(\"Arial\", 20))\n",
    "box.place(x=10, y=41)\n",
    "box.configure(text=\"reading...\")\n",
    "\n",
    "frame=tk.Frame(height=480, width=480)\n",
    "frame.place(x=10,y=120)\n",
    "FL=tk.Label(frame)\n",
    "FL.place(x=0,y=0)\n",
    "\n",
    "frame=tk.Frame(height=480, width=480)\n",
    "frame.place(x=10,y=120)\n",
    "FL=tk.Label(frame)\n",
    "FL.place(x=0,y=0)\n",
    "\n",
    "cap=cv2.VideoCapture(0)\n",
    "reader=easyocr.Reader(['en'],gpu=True)\n",
    "def detect():\n",
    "    global status\n",
    "    ret,frame=cap.read()\n",
    "    image=cv2.cvtColor(frame,cv2.COLOR_BGR2RGB) \n",
    "    results=reader.readtext(image)\n",
    "    if results:\n",
    "        for(coord, text, prob) in results:\n",
    "            (TL, TR, BR, BL)= coord\n",
    "            tx,ty=(int(TL[0]), int(TL[1]))\n",
    "            bx,by=(int(BR[0]),int(BR[1]))\n",
    "            cv2.rectangle(image,(tx,ty), (bx,by), (0,0,255),2)\n",
    "        \n",
    "        df=pd.DataFrame(results)\n",
    "        df.columns=['Box', 'Text', 'Confidence']\n",
    "        status=df['Text'][0]\n",
    "        box.configure(text=status)\n",
    "\n",
    "        \n",
    "        \n",
    "    img=image[: , :460, :]\n",
    "    imgarr=Image.fromarray(img)\n",
    "    imgtk=ImageTk.PhotoImage(imgarr)\n",
    "    FL.imgtk=imgtk\n",
    "    FL.configure(image=imgtk)\n",
    "    FL.after(10, detect)\n",
    "\n",
    "detect()\n",
    "\n",
    "window.mainloop()"
   ]
  }
 ],
 "metadata": {
  "kernelspec": {
   "display_name": "Python 3",
   "language": "python",
   "name": "python3"
  },
  "language_info": {
   "codemirror_mode": {
    "name": "ipython",
    "version": 3
   },
   "file_extension": ".py",
   "mimetype": "text/x-python",
   "name": "python",
   "nbconvert_exporter": "python",
   "pygments_lexer": "ipython3",
   "version": "3.12.1"
  }
 },
 "nbformat": 4,
 "nbformat_minor": 2
}
